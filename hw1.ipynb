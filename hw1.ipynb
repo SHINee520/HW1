{
 "metadata": {
  "language_info": {
   "codemirror_mode": {
    "name": "ipython",
    "version": 3
   },
   "file_extension": ".py",
   "mimetype": "text/x-python",
   "name": "python",
   "nbconvert_exporter": "python",
   "pygments_lexer": "ipython3",
   "version": "3.9.5"
  },
  "orig_nbformat": 4,
  "kernelspec": {
   "name": "python3",
   "display_name": "Python 3.9.5 64-bit"
  },
  "interpreter": {
   "hash": "aee8b7b246df8f9039afb4144a1f6fd8d2ca17a180786b69acc140d282b71a49"
  }
 },
 "nbformat": 4,
 "nbformat_minor": 2,
 "cells": [
  {
   "cell_type": "code",
   "execution_count": 2,
   "metadata": {},
   "outputs": [],
   "source": [
    "import jieba\n",
    "import jieba.analyse\n",
    "import re\n",
    "import pandas as pd\n",
    "import matplotlib.pyplot as plt"
   ]
  },
  {
   "cell_type": "code",
   "execution_count": 111,
   "metadata": {
    "tags": []
   },
   "outputs": [
    {
     "output_type": "stream",
     "name": "stdout",
     "text": [
      "的          5269\n有          2795\n是          1674\n嗎          1483\n了          1387\n沒          1317\n八卦         1115\n在          1096\n你          1055\n都          1035\n人           978\n什麼          961\n我           901\n就           783\n好           748\n不           650\n說           628\n要           596\n跟           591\n去           590\n怎麼          555\n很           553\n會           550\n台灣          537\n被           511\n啊           504\n為           503\n吃           451\n是不是         444\n可以          415\n"
     ]
    }
   ],
   "source": [
    "def TF_IDF():\n",
    "    txt = open(\"hw1.txt\", encoding=\"utf-8\").read()\n",
    "    tags = jieba.analyse.extract_tags(txt, topK=100, withWeight=True)\n",
    "\n",
    "    df = pd.DataFrame(tags, columns = [\"word\", \"TF-IDF\"]) \n",
    "    print('權重排名(前100)')\n",
    "    print(df)\n",
    "    print('權重圖(fig1):')\n",
    "    chart = df.plot( kind ='bar',\n",
    "                    title = 'word/TF-IDF',\n",
    "                    xlabel = 'word',\n",
    "                    ylabel = 'TF-IDF',\n",
    "                    figsize = (35,15))\n",
    "    plt.show()\n",
    "\n",
    "# def Frequency():\n",
    "#     seg_word=\"\"\n",
    "#     for txt in open('hw1.txt',encoding='utf-8'):\n",
    "#         txt.strip('\\n') #刪掉多餘的符號\n",
    "#         # txt= re.findall(r'[^\\u4e00-\\u9fa5]+',txt)\n",
    "#         txt = re.compile(r\"[\\u4e00-\\u9fa5]\",txt)\n",
    "#         cut = jieba.lcut(txt)\n",
    "#         cut_word = cut_word+(\" \".join(cut))\n",
    "#     all_words=seg_word.split()\n",
    "#     return all_words\n",
    "\n",
    "def Frequency():\n",
    "    seg_word=\"\"\n",
    "    txt = open(\"hw1.txt\", encoding=\"utf-8\").read()\n",
    "    ch =re.compile(\"[\\u4e00-\\u9fa5]\")\n",
    "    seg_word =  \"\".join(ch.findall(txt))\n",
    "    cut = jieba.lcut(seg_word)\n",
    "\n",
    "    counts = {}\n",
    "    for i in cut :\n",
    "        counts[i] = counts.get(i,0) + 1\n",
    "\n",
    "    items = list(counts.items())  \n",
    "    items.sort(key=lambda x:x[1], reverse=True)\n",
    "\n",
    "    for i in range(30):  \n",
    "        word, count = items[i]  \n",
    "        print (\"{0:<10}{1:>5}\".format(word, count))\n",
    "\n",
    "\n",
    "# def Frequency():\n",
    "\n",
    "# TF_IDF()\n",
    "Frequency()\n"
   ]
  },
  {
   "cell_type": "code",
   "execution_count": 70,
   "metadata": {},
   "outputs": [
    {
     "output_type": "stream",
     "name": "stdout",
     "text": [
      "1\n2\n3\n44\n55\n"
     ]
    }
   ],
   "source": [
    "t=[1,2,3,44,55]\n",
    "for i in t:\n",
    "    print(i)"
   ]
  },
  {
   "cell_type": "code",
   "execution_count": 5,
   "metadata": {},
   "outputs": [
    {
     "output_type": "execute_result",
     "data": {
      "text/plain": [
       "'test1'"
      ]
     },
     "metadata": {},
     "execution_count": 5
    }
   ],
   "source": [
    "t={\n",
    "    \"fruit\":'apple',\n",
    "    \"project\":'test1'\n",
    "}\n",
    "t['project2']='test2'\n",
    "t['project']"
   ]
  },
  {
   "cell_type": "code",
   "execution_count": null,
   "metadata": {},
   "outputs": [],
   "source": []
  }
 ]
}
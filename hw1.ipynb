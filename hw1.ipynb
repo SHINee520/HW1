{
 "metadata": {
  "language_info": {
   "codemirror_mode": {
    "name": "ipython",
    "version": 3
   },
   "file_extension": ".py",
   "mimetype": "text/x-python",
   "name": "python",
   "nbconvert_exporter": "python",
   "pygments_lexer": "ipython3",
   "version": "3.9.5"
  },
  "orig_nbformat": 4,
  "kernelspec": {
   "name": "python3",
   "display_name": "Python 3.9.5 64-bit"
  },
  "interpreter": {
   "hash": "aee8b7b246df8f9039afb4144a1f6fd8d2ca17a180786b69acc140d282b71a49"
  }
 },
 "nbformat": 4,
 "nbformat_minor": 2,
 "cells": [
  {
   "cell_type": "code",
   "execution_count": 11,
   "source": [
    "import jieba\n",
    "import jieba.analyse\n",
    "import re\n",
    "import pandas as pd\n",
    "import matplotlib.pyplot as plt\n",
    "from collections import Counter"
   ],
   "outputs": [],
   "metadata": {}
  },
  {
   "cell_type": "code",
   "execution_count": 17,
   "source": [
    "def TF_IDF():\n",
    "    txt = open(\"hw1-dataset.txt\", encoding=\"utf-8\").read()\n",
    "    tags = jieba.analyse.extract_tags(txt, topK=100, withWeight=True)\n",
    "\n",
    "    df = pd.DataFrame(tags, columns = [\"word\", \"TF-IDF\"]) \n",
    "    print('權重排名(前100)')\n",
    "    print(df)\n",
    "    print('權重圖(fig1):')\n",
    "    chart = df.plot( kind ='bar',\n",
    "                    title = 'word/TF-IDF',\n",
    "                    xlabel = 'word',\n",
    "                    ylabel = 'TF-IDF',\n",
    "                    figsize = (35,15))\n",
    "    plt.show()\n",
    "\n",
    "def Frequency():\n",
    "    # seg_word=\"\"\n",
    "    # for line in open('hw1-dataset.txt',encoding='utf-8'):\n",
    "    #     line.strip('\\n')\n",
    "    #     line = re.sub(\"[A-Za-z0-9\\：\\·\\—\\，\\。\\“ \\”\\?\\？\\...\\..\\!\\！]\", \"\", line) #刪掉多餘的符號\n",
    "    #     seg_cut=jieba.lcut(line)\n",
    "    #     seg_word+=(\" \".join(seg_cut))\n",
    "    # all_words=seg_word.split()\n",
    "\n",
    "    # arr = []\n",
    "    # c=Counter()\n",
    "    # for x in all_words:\n",
    "    #     if len(x)>1 and x != '\\r\\n\\t':\n",
    "    #         c[x] += 1\n",
    "    # for (k,v) in c.most_common(100): #前100個高頻字詞放到arr\n",
    "    #     arr.append([k,v])\n",
    "\n",
    "    # return arr\n",
    "    txt = open(\"hw1-dataset.txt\", encoding=\"utf-8\").read()\n",
    "    ch =re.compile(\"[\\u4e00-\\u9fa5]\")\n",
    "    seg_word =  \"\".join(ch.findall(txt))\n",
    "    cut = jieba.lcut(seg_word)\n",
    "    # print(all_words)\n",
    "\n",
    "    counts = {}\n",
    "    for i in cut :\n",
    "        if(len(i)>1):\n",
    "            counts[i] = counts.get(i,0) + 1\n",
    "            \n",
    "\n",
    "    items = list(counts.items())  \n",
    "    items.sort(key=lambda x:x[1], reverse=True)\n",
    "    \n",
    "    for i in range(100):  \n",
    "        word, count = items[i] \n",
    " \n",
    "    df = pd.DataFrame(items, columns = [\"word\", \"Frequncy\"]).sort_values(['Frequncy'],ascending=[False])[0:100]\n",
    "    print('出現頻率排名(前100)')\n",
    "    print(df)\n",
    "    print('頻率圖(fig2):')\n",
    "    chart = df.plot( kind ='bar',\n",
    "                    title = 'word/Frequncy',\n",
    "                    xlabel = 'word',\n",
    "                    ylabel = 'Frequncy',\n",
    "                    figsize = (35,15))\n",
    "    plt.show()\n",
    "    \n",
    "TF_IDF()\n",
    "Frequency()\n",
    "\n",
    "\n"
   ],
   "outputs": [],
   "metadata": {
    "tags": []
   }
  },
  {
   "cell_type": "code",
   "execution_count": null,
   "source": [],
   "outputs": [],
   "metadata": {}
  }
 ]
}
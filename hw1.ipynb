{
 "metadata": {
  "language_info": {
   "codemirror_mode": {
    "name": "ipython",
    "version": 3
   },
   "file_extension": ".py",
   "mimetype": "text/x-python",
   "name": "python",
   "nbconvert_exporter": "python",
   "pygments_lexer": "ipython3",
   "version": "3.9.5"
  },
  "orig_nbformat": 4,
  "kernelspec": {
   "name": "python3",
   "display_name": "Python 3.9.5 64-bit"
  },
  "interpreter": {
   "hash": "aee8b7b246df8f9039afb4144a1f6fd8d2ca17a180786b69acc140d282b71a49"
  }
 },
 "nbformat": 4,
 "nbformat_minor": 2,
 "cells": [
  {
   "cell_type": "code",
   "execution_count": 2,
   "metadata": {},
   "outputs": [],
   "source": [
    "import jieba\n",
    "import jieba.analyse\n",
    "import re\n",
    "import pandas as pd\n",
    "import matplotlib.pyplot as plt"
   ]
  },
  {
   "cell_type": "code",
   "execution_count": 4,
   "metadata": {
    "tags": []
   },
   "outputs": [
    {
     "output_type": "error",
     "ename": "TypeError",
     "evalue": "'reversed' is an invalid keyword argument for sort()",
     "traceback": [
      "\u001b[0;31m---------------------------------------------------------------------------\u001b[0m",
      "\u001b[0;31mTypeError\u001b[0m                                 Traceback (most recent call last)",
      "\u001b[0;32m/var/folders/g5/9yj1m_p94qbfycjhfbmrl2sw0000gn/T/ipykernel_3443/102260092.py\u001b[0m in \u001b[0;36m<module>\u001b[0;34m\u001b[0m\n\u001b[1;32m     55\u001b[0m \u001b[0;34m\u001b[0m\u001b[0m\n\u001b[1;32m     56\u001b[0m \u001b[0;31m# TF_IDF()\u001b[0m\u001b[0;34m\u001b[0m\u001b[0;34m\u001b[0m\u001b[0;34m\u001b[0m\u001b[0m\n\u001b[0;32m---> 57\u001b[0;31m \u001b[0mFrequency\u001b[0m\u001b[0;34m(\u001b[0m\u001b[0;34m)\u001b[0m\u001b[0;34m\u001b[0m\u001b[0;34m\u001b[0m\u001b[0m\n\u001b[0m",
      "\u001b[0;32m/var/folders/g5/9yj1m_p94qbfycjhfbmrl2sw0000gn/T/ipykernel_3443/102260092.py\u001b[0m in \u001b[0;36mFrequency\u001b[0;34m()\u001b[0m\n\u001b[1;32m     27\u001b[0m \u001b[0;34m\u001b[0m\u001b[0m\n\u001b[1;32m     28\u001b[0m \u001b[0;34m\u001b[0m\u001b[0m\n\u001b[0;32m---> 29\u001b[0;31m     \u001b[0ma\u001b[0m\u001b[0;34m=\u001b[0m\u001b[0msorted\u001b[0m\u001b[0;34m(\u001b[0m\u001b[0mcounts\u001b[0m\u001b[0;34m,\u001b[0m\u001b[0mreversed\u001b[0m\u001b[0;34m=\u001b[0m\u001b[0;32mTrue\u001b[0m\u001b[0;34m)\u001b[0m\u001b[0;34m\u001b[0m\u001b[0;34m\u001b[0m\u001b[0m\n\u001b[0m\u001b[1;32m     30\u001b[0m     \u001b[0mprint\u001b[0m\u001b[0;34m(\u001b[0m\u001b[0ma\u001b[0m\u001b[0;34m)\u001b[0m\u001b[0;34m\u001b[0m\u001b[0;34m\u001b[0m\u001b[0m\n\u001b[1;32m     31\u001b[0m     \u001b[0mitems\u001b[0m \u001b[0;34m=\u001b[0m \u001b[0mlist\u001b[0m\u001b[0;34m(\u001b[0m\u001b[0mcounts\u001b[0m\u001b[0;34m.\u001b[0m\u001b[0mitems\u001b[0m\u001b[0;34m(\u001b[0m\u001b[0;34m)\u001b[0m\u001b[0;34m)\u001b[0m\u001b[0;34m\u001b[0m\u001b[0;34m\u001b[0m\u001b[0m\n",
      "\u001b[0;31mTypeError\u001b[0m: 'reversed' is an invalid keyword argument for sort()"
     ]
    }
   ],
   "source": [
    "def TF_IDF():\n",
    "    txt = open(\"hw1.txt\", encoding=\"utf-8\").read()\n",
    "    tags = jieba.analyse.extract_tags(txt, topK=100, withWeight=True)\n",
    "\n",
    "    df = pd.DataFrame(tags, columns = [\"word\", \"TF-IDF\"]) \n",
    "    print('權重排名(前100)')\n",
    "    print(df)\n",
    "    print('權重圖(fig1):')\n",
    "    chart = df.plot( kind ='bar',\n",
    "                    title = 'word/TF-IDF',\n",
    "                    xlabel = 'word',\n",
    "                    ylabel = 'TF-IDF',\n",
    "                    figsize = (35,15))\n",
    "    plt.show()\n",
    "\n",
    "def Frequency():\n",
    "    seg_word=\"\"\n",
    "    txt = open(\"hw1.txt\", encoding=\"utf-8\").read()\n",
    "    ch =re.compile(\"[\\u4e00-\\u9fa5]\")\n",
    "    seg_word =  \"\".join(ch.findall(txt))\n",
    "    cut = jieba.lcut(seg_word)\n",
    "\n",
    "    counts = {}\n",
    "    for i in cut :\n",
    "        if(len(i)>1):\n",
    "            counts[i] = counts.get(i,0) + 1\n",
    "\n",
    "    items = list(counts.items())  \n",
    "    items.sort(key=lambda x:x[1], reverse=True)\n",
    "\n",
    "    for i in range(100):  \n",
    "        word, count = items[i]  \n",
    "        print(items[i])\n",
    "        # print(\"{0:<10}{1:>5}\".format(word, count))\n",
    "    \n",
    "    df = pd.DataFrame(items, columns = [\"word\", \"Frequncy\"]).sort_values(['Frequncy'])[100]\n",
    "    print('出現頻率排名(前100)')\n",
    "    print(df)\n",
    "    print('頻率圖(fig2):')\n",
    "    chart = df.plot( kind ='bar',\n",
    "                    title = 'word/Frequncy',\n",
    "                    xlabel = 'word',\n",
    "                    ylabel = 'Frequncy',\n",
    "                    figsize = (35,15))\n",
    "    plt.show()\n",
    "    \n",
    "\n",
    "# TF_IDF()\n",
    "Frequency()\n"
   ]
  },
  {
   "cell_type": "code",
   "execution_count": null,
   "metadata": {},
   "outputs": [],
   "source": [
    "t=[1,2,3,44,55]\n",
    "for i in t:\n",
    "    print(i)"
   ]
  },
  {
   "cell_type": "code",
   "execution_count": 5,
   "metadata": {},
   "outputs": [
    {
     "output_type": "execute_result",
     "data": {
      "text/plain": [
       "'test1'"
      ]
     },
     "metadata": {},
     "execution_count": 5
    }
   ],
   "source": [
    "t={\n",
    "    \"fruit\":'apple',\n",
    "    \"project\":'test1'\n",
    "}\n",
    "t['project2']='test2'\n",
    "t['project']"
   ]
  }
 ]
}
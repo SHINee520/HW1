{
 "metadata": {
  "language_info": {
   "codemirror_mode": {
    "name": "ipython",
    "version": 3
   },
   "file_extension": ".py",
   "mimetype": "text/x-python",
   "name": "python",
   "nbconvert_exporter": "python",
   "pygments_lexer": "ipython3",
   "version": "3.9.5"
  },
  "orig_nbformat": 4,
  "kernelspec": {
   "name": "python3",
   "display_name": "Python 3.9.5 64-bit"
  },
  "interpreter": {
   "hash": "aee8b7b246df8f9039afb4144a1f6fd8d2ca17a180786b69acc140d282b71a49"
  }
 },
 "nbformat": 4,
 "nbformat_minor": 2,
 "cells": [
  {
   "cell_type": "code",
   "execution_count": 30,
   "metadata": {},
   "outputs": [],
   "source": [
    "import jieba\n",
    "import jieba.analyse"
   ]
  },
  {
   "cell_type": "code",
   "execution_count": 54,
   "metadata": {},
   "outputs": [
    {
     "output_type": "execute_result",
     "data": {
      "text/plain": [
       "[('俊霖', 5.97738375145), ('狗狗', 5.4524726892)]"
      ]
     },
     "metadata": {},
     "execution_count": 54
    }
   ],
   "source": [
    "txt = open(\"hw1.txt\", encoding=\"utf-8\").read()\n",
    "words = jieba.lcut(\"黃俊霖是大笨蛋\")\n",
    "\n",
    "s = \"黃俊霖是臭狗狗\"\n",
    "tags = jieba.analyse.extract_tags(\"你總要踏上你老子的腳步。\", topK=2, withWeight=True, allowPOS=())\n",
    "\n",
    "\n",
    "counts = {}     #dict\n",
    "for word in words:\n",
    "    counts[word] = counts.get(word,0) + 1\n",
    "# print(jieba.tag(s,topK=4, withWeight=False, allowPOS=()))\n",
    "\n",
    "words\n",
    "tags\n"
   ]
  },
  {
   "cell_type": "code",
   "execution_count": 2,
   "metadata": {},
   "outputs": [
    {
     "output_type": "stream",
     "name": "stdout",
     "text": [
      "1\n2\n3\n44\n55\n"
     ]
    }
   ],
   "source": [
    "t=[1,2,3,44,55]\n",
    "for i in t:\n",
    "    print(i)"
   ]
  },
  {
   "cell_type": "code",
   "execution_count": 5,
   "metadata": {},
   "outputs": [
    {
     "output_type": "execute_result",
     "data": {
      "text/plain": [
       "'test1'"
      ]
     },
     "metadata": {},
     "execution_count": 5
    }
   ],
   "source": [
    "t={\n",
    "    \"fruit\":'apple',\n",
    "    \"project\":'test1'\n",
    "}\n",
    "t['project2']='test2'\n",
    "t['project']"
   ]
  },
  {
   "cell_type": "code",
   "execution_count": null,
   "metadata": {},
   "outputs": [],
   "source": []
  }
 ]
}